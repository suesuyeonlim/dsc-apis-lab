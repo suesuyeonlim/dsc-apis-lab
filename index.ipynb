{
 "cells": [
  {
   "cell_type": "markdown",
   "metadata": {},
   "source": [
    "# APIs - Cumulative Lab\n",
    "\n",
    "\n",
    "## Introduction \n",
    "\n",
    "We've seen how the Yelp API works and how to create basic visualizations using Folium. It's time to put those skills to work in order to create a working map! Taking things a step further, you'll also independently explore how to perform pagination in order to retrieve a full results set from the Yelp API.\n",
    "\n",
    "## Objectives\n",
    "\n",
    "You will be able to: \n",
    "\n",
    "* Practice using functions to organize your code\n",
    "* Use pagination to retrieve all results from an API query\n",
    "* Practice parsing data returned from an API query\n",
    "* Practice interpreting visualizations of a dataset\n",
    "* Create maps using Folium"
   ]
  },
  {
   "cell_type": "markdown",
   "metadata": {},
   "source": [
    "## Your Task: Query Yelp for All Businesses in a Category and Analyze the Results\n",
    "\n",
    "![restaurant counter with pizza](images/restaurant_counter.jpg)\n",
    "\n",
    "Photo by <a href=\"https://unsplash.com/@jordanmadrid?utm_source=unsplash&utm_medium=referral&utm_content=creditCopyText\">Jordan Madrid</a> on <a href=\"/s/photos/pizza-restaurant?utm_source=unsplash&utm_medium=referral&utm_content=creditCopyText\">Unsplash</a>"
   ]
  },
  {
   "cell_type": "markdown",
   "metadata": {},
   "source": [
    "### Overview\n",
    "\n",
    "You've now worked with some API calls, but we have yet to see how to retrieve a more complete dataset in a programmatic manner. In this lab, you will write a query of businesses on Yelp, then use *pagination* to retrieve all possible results for that query. Then you will create a summary of your findings, including a Folium map of the geographic locations of those businesses.\n",
    "\n",
    "### Technical Details\n",
    "\n",
    "Returning to the Yelp API, the [documentation](https://www.yelp.com/developers/documentation/v3/business_search) also provides us details regarding the **API limits**. These often include details about the number of requests a user is allowed to make within a specified time limit and the maximum number of results to be returned. In this case, we are told that any request has a **maximum of 50 results per request** and defaults to 20. Furthermore, any search will be limited to a **total of 1000 results**. To retrieve all 1000 of these results, we would have to page through the results piece by piece, retrieving 50 at a time. Processes such as these are often referred to as pagination.\n",
    "\n",
    "Also, be mindful of the **API** ***rate*** **limits**. You can only make **5000 requests per day** and are also can make requests too fast. Start prototyping small before running a loop that could be faulty. You can also use `time.sleep(n)` to add delays. For more details see https://www.yelp.com/developers/documentation/v3/rate_limiting.\n",
    "\n",
    "In this lab, you will define a search and then paginate over the results to retrieve all of the results. You'll then parse these responses as a list of dictionaries (for further exploration) and create a map using Folium to visualize the results geographically.\n",
    "\n",
    "### Requirements\n",
    "\n",
    "#### 1. Make the Initial Request\n",
    "\n",
    "Start by filling in your API key to make the initial request to the business search API. Investigate the structure of the response you get back and start figuring out how you will extract the relevant information.\n",
    "\n",
    "#### 2. Add Pagination\n",
    "\n",
    "Using loops and functions, collect the maximum number of results for your query from the API.\n",
    "\n",
    "#### 3. Perform Exploratory Analysis\n",
    "\n",
    "Interpret visualizations related to the price range, average rating, and number of reviews for all query results.\n",
    "\n",
    "#### 4. Create a Folium Map\n",
    "\n",
    "Using latitude and longitude data, plot the query results on an interactive map."
   ]
  },
  {
   "cell_type": "markdown",
   "metadata": {},
   "source": [
    "## 1. Make the Initial Request\n",
    "\n",
    "### Querying\n",
    "\n",
    "Start by making an initial request to the Yelp API. Your search must include at least 2 parameters: **term** and **location**. For example, you might search for pizza restaurants in NYC. The term and location is up to you but make the request below.\n",
    "\n",
    "Use the `requests` library ([documentation here](https://requests.readthedocs.io/en/master/user/quickstart/#make-a-request)).\n",
    "\n",
    "You'll also need an API key from Yelp. If you haven't done this already, go to the Yelp [Manage App page](https://www.yelp.com/developers/v3/manage_app) and create a new app (after making an account if you haven't already)."
   ]
  },
  {
   "cell_type": "code",
   "execution_count": 1,
   "metadata": {},
   "outputs": [],
   "source": [
    "import requests\n",
    "import json\n",
    "\n",
    "def get_keys(path):\n",
    "    with open(path) as f:\n",
    "        return json.load(f)"
   ]
  },
  {
   "cell_type": "code",
   "execution_count": 2,
   "metadata": {},
   "outputs": [
    {
     "data": {
      "text/plain": [
       "<Response [200]>"
      ]
     },
     "execution_count": 2,
     "metadata": {},
     "output_type": "execute_result"
    }
   ],
   "source": [
    "# Replace None with appropriate code\n",
    "\n",
    "# Import the requests library\n",
    "None\n",
    "\n",
    "# Get this from the \"Manage App\" page. Make sure you set them\n",
    "# back to None before pushing this to GitHub, since otherwise\n",
    "# your credentials will be compromised\n",
    "api_key = get_keys('/Users/test/Desktop/.secret/yelp_api.json')['api_key']\n",
    "\n",
    "# These can be whatever you want! But the solution uses \"pizza\"\n",
    "# and \"New York NY\" if you want to compare your work directly\n",
    "term = \"pizza\"\n",
    "location = \"New York NY\"\n",
    "\n",
    "# Set up params for request\n",
    "url = \"https://api.yelp.com/v3/businesses/search\"\n",
    "headers = {\n",
    "    \"Authorization\": \"Bearer {}\".format(api_key)\n",
    "}\n",
    "url_params = {\n",
    "    \"term\": term.replace(\" \", \"+\"),\n",
    "    \"location\": location.replace(\" \", \"+\")\n",
    "}\n",
    "\n",
    "# Make the request using requests.get, passing in\n",
    "# url, headers=headers, and params=url_params\n",
    "response = requests.get(url, headers = headers, params = url_params)\n",
    "\n",
    "# Confirm we got a 200 response\n",
    "response"
   ]
  },
  {
   "cell_type": "code",
   "execution_count": 3,
   "metadata": {},
   "outputs": [
    {
     "data": {
      "text/plain": [
       "dict_keys(['businesses', 'total', 'region'])"
      ]
     },
     "execution_count": 3,
     "metadata": {},
     "output_type": "execute_result"
    }
   ],
   "source": [
    "# Run this cell without changes\n",
    "\n",
    "# Get the response body in JSON format\n",
    "response_json = response.json()\n",
    "# View the keys\n",
    "response_json.keys()"
   ]
  },
  {
   "cell_type": "markdown",
   "metadata": {},
   "source": [
    "### Extracting Data\n",
    "\n",
    "Now, retrieve the value associated with the `'businesses'` key, and inspect its contents."
   ]
  },
  {
   "cell_type": "code",
   "execution_count": 4,
   "metadata": {},
   "outputs": [
    {
     "data": {
      "text/plain": [
       "[{'id': 'zj8Lq1T8KIC5zwFief15jg',\n",
       "  'alias': 'prince-street-pizza-new-york-2',\n",
       "  'name': 'Prince Street Pizza',\n",
       "  'image_url': 'https://s3-media2.fl.yelpcdn.com/bphoto/I4gm7i1zoamgAk1hmOKbKw/o.jpg',\n",
       "  'is_closed': False,\n",
       "  'url': 'https://www.yelp.com/biz/prince-street-pizza-new-york-2?adjust_creative=my5Vc4_lBmBrxWdJxjyDdg&utm_campaign=yelp_api_v3&utm_medium=api_v3_business_search&utm_source=my5Vc4_lBmBrxWdJxjyDdg',\n",
       "  'review_count': 4732,\n",
       "  'categories': [{'alias': 'pizza', 'title': 'Pizza'},\n",
       "   {'alias': 'italian', 'title': 'Italian'}],\n",
       "  'rating': 4.5,\n",
       "  'coordinates': {'latitude': 40.72308755605564,\n",
       "   'longitude': -73.99453001177575},\n",
       "  'transactions': ['delivery', 'pickup'],\n",
       "  'price': '$',\n",
       "  'location': {'address1': '27 Prince St',\n",
       "   'address2': None,\n",
       "   'address3': '',\n",
       "   'city': 'New York',\n",
       "   'zip_code': '10012',\n",
       "   'country': 'US',\n",
       "   'state': 'NY',\n",
       "   'display_address': ['27 Prince St', 'New York, NY 10012']},\n",
       "  'phone': '+12129664100',\n",
       "  'display_phone': '(212) 966-4100',\n",
       "  'distance': 2209.3116178604555},\n",
       " {'id': 'ysqgdbSrezXgVwER2kQWKA',\n",
       "  'alias': 'julianas-brooklyn-3',\n",
       "  'name': \"Juliana's\",\n",
       "  'image_url': 'https://s3-media2.fl.yelpcdn.com/bphoto/NVoLFle5H-SHNN6piAKIYw/o.jpg',\n",
       "  'is_closed': False,\n",
       "  'url': 'https://www.yelp.com/biz/julianas-brooklyn-3?adjust_creative=my5Vc4_lBmBrxWdJxjyDdg&utm_campaign=yelp_api_v3&utm_medium=api_v3_business_search&utm_source=my5Vc4_lBmBrxWdJxjyDdg',\n",
       "  'review_count': 2602,\n",
       "  'categories': [{'alias': 'pizza', 'title': 'Pizza'}],\n",
       "  'rating': 4.5,\n",
       "  'coordinates': {'latitude': 40.70274718768062,\n",
       "   'longitude': -73.99343490196397},\n",
       "  'transactions': ['delivery'],\n",
       "  'price': '$$',\n",
       "  'location': {'address1': '19 Old Fulton St',\n",
       "   'address2': '',\n",
       "   'address3': '',\n",
       "   'city': 'Brooklyn',\n",
       "   'zip_code': '11201',\n",
       "   'country': 'US',\n",
       "   'state': 'NY',\n",
       "   'display_address': ['19 Old Fulton St', 'Brooklyn, NY 11201']},\n",
       "  'phone': '+17185966700',\n",
       "  'display_phone': '(718) 596-6700',\n",
       "  'distance': 1289.8572856708206}]"
      ]
     },
     "execution_count": 4,
     "metadata": {},
     "output_type": "execute_result"
    }
   ],
   "source": [
    "# Replace None with appropriate code\n",
    "\n",
    "# Retrieve the value from response_json\n",
    "businesses = response_json['businesses']\n",
    "\n",
    "# View the first 2 records\n",
    "businesses[:2]"
   ]
  },
  {
   "cell_type": "markdown",
   "metadata": {},
   "source": [
    "### Preparing Data\n",
    "\n",
    "Write a function `prepare_data` that takes in a list of dictionaries like `businesses` and returns a copy that has been prepared for analysis:\n",
    "\n",
    "1. The `coordinates` key-value pair has been converted into two separate key-value pairs, `latitude` and `longitude`\n",
    "2. All other key-value pairs except for `name`, `review_count`, `rating`, and `price` have been dropped\n",
    "3. All dictionaries missing one of the relevant keys or containing null values have been dropped\n",
    "\n",
    "In other words, the final keys for each dictionary should be `name`, `review_count`, `rating`, `price`, `latitude`, and `longitude`.\n",
    "\n",
    "Complete the function in the cell below:"
   ]
  },
  {
   "cell_type": "code",
   "execution_count": 5,
   "metadata": {},
   "outputs": [
    {
     "data": {
      "text/plain": [
       "{'id': 'hGksyTiHBBdrhbiVjXzWVw',\n",
       " 'alias': 'scarrs-pizza-new-york',\n",
       " 'name': \"Scarr's Pizza\",\n",
       " 'image_url': 'https://s3-media3.fl.yelpcdn.com/bphoto/xonxGJK91P_Ow3iY7olsxA/o.jpg',\n",
       " 'is_closed': False,\n",
       " 'url': 'https://www.yelp.com/biz/scarrs-pizza-new-york?adjust_creative=my5Vc4_lBmBrxWdJxjyDdg&utm_campaign=yelp_api_v3&utm_medium=api_v3_business_search&utm_source=my5Vc4_lBmBrxWdJxjyDdg',\n",
       " 'review_count': 692,\n",
       " 'categories': [{'alias': 'pizza', 'title': 'Pizza'}],\n",
       " 'rating': 4.0,\n",
       " 'coordinates': {'latitude': 40.71534, 'longitude': -73.9914},\n",
       " 'transactions': ['delivery', 'pickup'],\n",
       " 'price': '$',\n",
       " 'location': {'address1': '22 Orchard St',\n",
       "  'address2': '',\n",
       "  'address3': '',\n",
       "  'city': 'New York',\n",
       "  'zip_code': '10002',\n",
       "  'country': 'US',\n",
       "  'state': 'NY',\n",
       "  'display_address': ['22 Orchard St', 'New York, NY 10002']},\n",
       " 'phone': '+12123343481',\n",
       " 'display_phone': '(212) 334-3481',\n",
       " 'distance': 1388.449837226395}"
      ]
     },
     "execution_count": 5,
     "metadata": {},
     "output_type": "execute_result"
    }
   ],
   "source": [
    "businesses[7]"
   ]
  },
  {
   "cell_type": "code",
   "execution_count": 6,
   "metadata": {},
   "outputs": [
    {
     "data": {
      "text/plain": [
       "[{'name': 'Prince Street Pizza',\n",
       "  'review_count': 4732,\n",
       "  'rating': 4.5,\n",
       "  'price': '$',\n",
       "  'latitude': 40.72308755605564,\n",
       "  'longitude': -73.99453001177575},\n",
       " {'name': \"Juliana's\",\n",
       "  'review_count': 2602,\n",
       "  'rating': 4.5,\n",
       "  'price': '$$',\n",
       "  'latitude': 40.70274718768062,\n",
       "  'longitude': -73.99343490196397},\n",
       " {'name': 'Rubirosa',\n",
       "  'review_count': 2896,\n",
       "  'rating': 4.5,\n",
       "  'price': '$$',\n",
       "  'latitude': 40.722766,\n",
       "  'longitude': -73.996233},\n",
       " {'name': \"L'industrie Pizzeria\",\n",
       "  'review_count': 862,\n",
       "  'rating': 4.5,\n",
       "  'price': '$',\n",
       "  'latitude': 40.71162,\n",
       "  'longitude': -73.95783},\n",
       " {'name': \"Joe's Pizza\",\n",
       "  'review_count': 1757,\n",
       "  'rating': 4.0,\n",
       "  'price': '$',\n",
       "  'latitude': 40.7547,\n",
       "  'longitude': -73.98696}]"
      ]
     },
     "execution_count": 6,
     "metadata": {},
     "output_type": "execute_result"
    }
   ],
   "source": [
    "# Replace None with appropriate code\n",
    "\n",
    "def prepare_data(data_list):\n",
    "    \"\"\"\n",
    "    This function takes in a list of dictionaries and prepares it\n",
    "    for analysis\n",
    "    \"\"\"\n",
    "    \n",
    "    # Make a new list to hold results\n",
    "    results = []\n",
    "    \n",
    "    for business_data in data_list:\n",
    "    \n",
    "        # Make a new dictionary to hold prepared data for this business\n",
    "        prepared_data = {}\n",
    "        \n",
    "        # Extract name, review_count, rating, and price key-value pairs\n",
    "        # from business_data and add to prepared_data\n",
    "        # If a key is not present in business_data, add it to prepared_data\n",
    "        # with an associated value of None\n",
    "        prepared_data['name'] = business_data['name']\n",
    "        prepared_data['review_count'] = business_data['review_count']\n",
    "        prepared_data['rating'] = business_data['rating']\n",
    "        try:\n",
    "            prepared_data['price'] = business_data['price']\n",
    "        except:\n",
    "            continue\n",
    "        # Parse and add latitude and longitude columns\n",
    "        prepared_data['latitude'] = business_data['coordinates']['latitude']\n",
    "        prepared_data['longitude'] = business_data['coordinates']['longitude']\n",
    "        \n",
    "        # Add to list if all values are present\n",
    "        if all(prepared_data.values()):\n",
    "            results.append(prepared_data)\n",
    "    \n",
    "    return results\n",
    "    \n",
    "# Test out function\n",
    "prepared_businesses = prepare_data(businesses)\n",
    "prepared_businesses[:5]"
   ]
  },
  {
   "cell_type": "markdown",
   "metadata": {},
   "source": [
    "Check that your function created the correct keys:"
   ]
  },
  {
   "cell_type": "code",
   "execution_count": 7,
   "metadata": {},
   "outputs": [],
   "source": [
    "# Run this cell without changes\n",
    "\n",
    "assert sorted(list(prepared_businesses[0].keys())) == ['latitude', 'longitude', 'name', 'price', 'rating', 'review_count']"
   ]
  },
  {
   "cell_type": "markdown",
   "metadata": {},
   "source": [
    "The following code will differ depending on your query, but we expect there to be 20 businesses in the original list, and potentially fewer in the prepared list (if any of them were missing data):"
   ]
  },
  {
   "cell_type": "code",
   "execution_count": 8,
   "metadata": {},
   "outputs": [
    {
     "name": "stdout",
     "output_type": "stream",
     "text": [
      "Original: 20\n",
      "Prepared: 18\n"
     ]
    }
   ],
   "source": [
    "# Run this cell without changes\n",
    "print(\"Original:\", len(businesses))\n",
    "print(\"Prepared:\", len(prepared_businesses))"
   ]
  },
  {
   "cell_type": "markdown",
   "metadata": {},
   "source": [
    "Great! We will reuse this function once we have retrieved the full dataset."
   ]
  },
  {
   "cell_type": "markdown",
   "metadata": {},
   "source": [
    "## 2. Add Pagination\n",
    "\n",
    "Now that you are able to extract information from one page of the response, let's figure out how to request as many pages as possible.\n",
    "\n",
    "### Determining the Total\n",
    "\n",
    "Depending on the number of total results for your query, you will either retrieve all of the results, or just the first 1000 (if there are more than 1000 total).\n",
    "\n",
    "We can find the total number of results using the `\"total\"` key:"
   ]
  },
  {
   "cell_type": "code",
   "execution_count": 9,
   "metadata": {},
   "outputs": [
    {
     "data": {
      "text/plain": [
       "15300"
      ]
     },
     "execution_count": 9,
     "metadata": {},
     "output_type": "execute_result"
    }
   ],
   "source": [
    "# Run this cell without changes\n",
    "response_json[\"total\"]"
   ]
  },
  {
   "cell_type": "markdown",
   "metadata": {},
   "source": [
    "(This is specific to the implementation of the Yelp API. Some APIs will just tell you that there are more pages, or will tell you the number of pages total, rather than the total number of results. If you're not sure, always check the documentation.)\n",
    "\n",
    "In the cell below, assign the variable `total` to either the value shown above (if it is less than 1000), or 1000."
   ]
  },
  {
   "cell_type": "code",
   "execution_count": 10,
   "metadata": {},
   "outputs": [],
   "source": [
    "# Replace None with appropriate code\n",
    "total = 1000"
   ]
  },
  {
   "cell_type": "markdown",
   "metadata": {},
   "source": [
    "### Calculating the Offsets\n",
    "\n",
    "The documentation states in the parameters section:\n",
    "\n",
    "> **Name**: `limit`, **Type:** int, **Description:** Optional. Number of business results to return. By default, it will return 20. Maximum is 50.\n",
    "\n",
    "> **Name**: `offset`, **Type:** int, **Description:** Optional. Offset the list of returned business results by this amount.\n",
    "\n",
    "So, to get the most results with the fewest API calls we want to set a limit of 50 every time. If, say, we wanted to get 210 total results, that would mean:\n",
    "\n",
    "1. Offset of `0` (first 50 records)\n",
    "2. Offset of `50` (second 50 records)\n",
    "3. Offset of `100` (third 50 records)\n",
    "4. Offset of `150` (fourth 50 records)\n",
    "5. Offset of `200` (final 10 records)\n",
    "\n",
    "In the cell below, create a function `get_offsets` that takes in a total and returns a list of offsets for that total. You can assume that there is a limit of 50 every time.\n",
    "\n",
    "*Hint: you can use `range` ([documentation here](https://docs.python.org/3.3/library/stdtypes.html?highlight=range#range)) to do this in one line of code. Just make the returned result is a list.*"
   ]
  },
  {
   "cell_type": "code",
   "execution_count": 11,
   "metadata": {},
   "outputs": [],
   "source": [
    "# Replace None with appropriate code\n",
    "def get_offsets(total):\n",
    "    \"\"\"\n",
    "    Get a list of offsets needed to get all pages\n",
    "    of data up until the total\n",
    "    \"\"\"\n",
    "    return list(range(0, total, 50))"
   ]
  },
  {
   "cell_type": "markdown",
   "metadata": {},
   "source": [
    "Check that your function works below:"
   ]
  },
  {
   "cell_type": "code",
   "execution_count": 12,
   "metadata": {},
   "outputs": [],
   "source": [
    "# Run this cell without changes\n",
    "\n",
    "assert get_offsets(200) == [0, 50, 100, 150]\n",
    "assert get_offsets(210) == [0, 50, 100, 150, 200]"
   ]
  },
  {
   "cell_type": "markdown",
   "metadata": {},
   "source": [
    "### Putting It All Together\n",
    "\n",
    "Recall that the following variable has already been declared for you:"
   ]
  },
  {
   "cell_type": "code",
   "execution_count": 13,
   "metadata": {},
   "outputs": [
    {
     "data": {
      "text/plain": [
       "{'term': 'pizza', 'location': 'New+York+NY'}"
      ]
     },
     "execution_count": 13,
     "metadata": {},
     "output_type": "execute_result"
    }
   ],
   "source": [
    "# Run this cell without changes\n",
    "url_params"
   ]
  },
  {
   "cell_type": "markdown",
   "metadata": {},
   "source": [
    "We'll go ahead and also specify that the limit should be 50 every time:"
   ]
  },
  {
   "cell_type": "code",
   "execution_count": 14,
   "metadata": {},
   "outputs": [],
   "source": [
    "# Run this cell without changes\n",
    "url_params[\"limit\"] = 50"
   ]
  },
  {
   "cell_type": "markdown",
   "metadata": {},
   "source": [
    "In order to modify the offset, you'll need to add it to `url_params` with the key `\"offset\"` and whatever value is needed.\n",
    "\n",
    "In the cell below, write code that:\n",
    "\n",
    "* Creates an empty list for the full prepared dataset\n",
    "* Loops over all of the offsets from `get_offsets` and makes an API call each time with the specified offset\n",
    "* Calls `prepare_data` to get a cleaned version of the result of each API call\n",
    "* Extends the full prepared dataset list with each query's prepared dataset"
   ]
  },
  {
   "cell_type": "code",
   "execution_count": 15,
   "metadata": {},
   "outputs": [
    {
     "data": {
      "text/plain": [
       "756"
      ]
     },
     "execution_count": 15,
     "metadata": {},
     "output_type": "execute_result"
    }
   ],
   "source": [
    "# Replace None with appropriate code\n",
    "\n",
    "# Create an empty list for the full prepared dataset\n",
    "full_dataset = []\n",
    "\n",
    "for offset in get_offsets(total):\n",
    "    # Add or update the \"offset\" key-value pair in url_params\n",
    "    url_params['offset'] = offset\n",
    "    \n",
    "    # Make the query and get the response\n",
    "    response = requests.get(url, headers=headers, params=url_params)\n",
    "    \n",
    "    # Get the response body in JSON format\n",
    "    response_json = response.json()\n",
    "    \n",
    "    # Get the list of businesses from the response_json\n",
    "    businesses = response_json['businesses']\n",
    "    \n",
    "    # Call the prepare_data function to get a list of processed data\n",
    "    prepared_businesses = prepare_data(businesses)\n",
    "    \n",
    "    # Extend full_dataset with this list (don't append, or you'll get\n",
    "    # a list of lists instead of a flat list)\n",
    "    full_dataset.extend(prepared_businesses)\n",
    "\n",
    "# Check the length of the full dataset. It will be up to `total`,\n",
    "# potentially less if there were missing values\n",
    "len(full_dataset)"
   ]
  },
  {
   "cell_type": "markdown",
   "metadata": {},
   "source": [
    "This code may take up to a few minutes to run.\n",
    "\n",
    "If you get an error trying to get the response body in JSON format, try adding `time.sleep(1)` right after the `requests.get` line, so your code will sleep for 1 second between each API call."
   ]
  },
  {
   "cell_type": "markdown",
   "metadata": {},
   "source": [
    "## 3. Perform Exploratory Analysis\n",
    "\n",
    "Take the businesses from the previous question and do an initial exploratory analysis. We have provided some plots for you to interpret:"
   ]
  },
  {
   "cell_type": "code",
   "execution_count": 16,
   "metadata": {},
   "outputs": [
    {
     "data": {
      "image/png": "[encoded data removed]",
      "text/plain": [
       "<Figure size 1152x360 with 3 Axes>"
      ]
     },
     "metadata": {
      "needs_background": "light"
     },
     "output_type": "display_data"
    }
   ],
   "source": [
    "# Run this cell without changes\n",
    "from collections import Counter\n",
    "import matplotlib.pyplot as plt\n",
    "%matplotlib inline\n",
    "\n",
    "fig, (ax1, ax2, ax3) = plt.subplots(ncols=3, figsize=(16, 5))\n",
    "\n",
    "# Plot distribution of number of reviews\n",
    "all_review_counts = [x[\"review_count\"] for x in full_dataset]\n",
    "ax1.hist(all_review_counts)\n",
    "ax1.set_title(\"Review Count Distribution\")\n",
    "ax1.set_xlabel(\"Number of Reviews\")\n",
    "ax1.set_ylabel(\"Number of Businesses\")\n",
    "\n",
    "# Plot rating distribution\n",
    "all_ratings = [x[\"rating\"] for x in full_dataset]\n",
    "rating_counter = Counter(all_ratings)\n",
    "rating_keys = sorted(rating_counter.keys())\n",
    "ax2.bar(rating_keys, [rating_counter[key] for key in rating_keys])\n",
    "ax2.set_title(\"Rating Distribution\")\n",
    "ax2.set_xlabel(\"Rating\")\n",
    "ax2.set_ylabel(\"Number of Businesses\")\n",
    "\n",
    "# Plot price distribution\n",
    "all_prices = [x[\"price\"].replace(\"$\", r\"\\$\") for x in full_dataset]\n",
    "price_counter = Counter(all_prices)\n",
    "price_keys = sorted(price_counter.keys())\n",
    "ax3.bar(price_keys, [price_counter[key] for key in price_keys])\n",
    "ax3.set_title(\"Price Distribution\")\n",
    "ax3.set_xlabel(\"Price Category\")\n",
    "ax3.set_ylabel(\"Number of Businesses\");"
   ]
  },
  {
   "cell_type": "markdown",
   "metadata": {},
   "source": [
    "Describe the distributions displayed above and interpret them in the context of your query. (Your answer may differ from the solution branch depending on your query.)"
   ]
  },
  {
   "cell_type": "code",
   "execution_count": 17,
   "metadata": {},
   "outputs": [
    {
     "data": {
      "text/plain": [
       "\"\\nMost of the restaurants have fewer than 2,500 reviews, and the rating distribution is slightly left-skewed.\\nThe price range for most of the restaurants is either '$' or '$$'.\\n\""
      ]
     },
     "execution_count": 17,
     "metadata": {},
     "output_type": "execute_result"
    }
   ],
   "source": [
    "# Replace None with appropriate text\n",
    "\"\"\"\n",
    "Most of the restaurants have fewer than 2,500 reviews, and the rating distribution is slightly left-skewed.\n",
    "The price range for most of the restaurants is either '$' or '$$'.\n",
    "\"\"\""
   ]
  },
  {
   "cell_type": "markdown",
   "metadata": {},
   "source": [
    "In the cell below, we also plot the rating distributions by price. In this setup, a price of one dollar sign is \"lower price\" and everything else is \"higher price\"."
   ]
  },
  {
   "cell_type": "code",
   "execution_count": 18,
   "metadata": {},
   "outputs": [
    {
     "data": {
      "image/png": "[encoded data removed]",
      "text/plain": [
       "<Figure size 432x288 with 1 Axes>"
      ]
     },
     "metadata": {
      "needs_background": "light"
     },
     "output_type": "display_data"
    }
   ],
   "source": [
    "# Run this cell without changes\n",
    "\n",
    "higher_price = []\n",
    "lower_price = []\n",
    "for row in full_dataset:\n",
    "    if row[\"price\"] == \"$\":\n",
    "        lower_price.append(row[\"rating\"])\n",
    "    else:\n",
    "        higher_price.append(row[\"rating\"])\n",
    "        \n",
    "fig, ax = plt.subplots()\n",
    "\n",
    "ax.hist([higher_price, lower_price], label=[\"higher price\", \"lower price\"], density=True)\n",
    "\n",
    "ax.legend();"
   ]
  },
  {
   "cell_type": "markdown",
   "metadata": {},
   "source": [
    "Is a higher price associated with a higher rating? (No need for any additional math/statistics, just interpret what you see in the plot.)"
   ]
  },
  {
   "cell_type": "code",
   "execution_count": 19,
   "metadata": {},
   "outputs": [
    {
     "data": {
      "text/plain": [
       "'\\nA higher price is associataed with a higher rating.\\n'"
      ]
     },
     "execution_count": 19,
     "metadata": {},
     "output_type": "execute_result"
    }
   ],
   "source": [
    "# Replace None with appropriate text\n",
    "\"\"\"\n",
    "A higher price is associataed with a higher rating.\n",
    "\"\"\""
   ]
  },
  {
   "cell_type": "markdown",
   "metadata": {},
   "source": [
    "Finally, let's look at ratings vs. review counts:"
   ]
  },
  {
   "cell_type": "code",
   "execution_count": 20,
   "metadata": {},
   "outputs": [
    {
     "data": {
      "image/png": "[encoded data removed]",
      "text/plain": [
       "<Figure size 1152x360 with 1 Axes>"
      ]
     },
     "metadata": {
      "needs_background": "light"
     },
     "output_type": "display_data"
    }
   ],
   "source": [
    "# Run this cell without changes\n",
    "fig, ax = plt.subplots(figsize=(16,5))\n",
    "\n",
    "ax.scatter(all_review_counts, all_ratings, alpha=0.2)\n",
    "ax.set_xlabel(\"Number of Reviews\")\n",
    "ax.set_ylabel(\"Rating\")\n",
    "# \"zoom in\" to a subset of review counts\n",
    "ax.set_xlim(left=0, right=1000);"
   ]
  },
  {
   "cell_type": "markdown",
   "metadata": {},
   "source": [
    "Is a higher number of reviews associated with a higher rating?"
   ]
  },
  {
   "cell_type": "code",
   "execution_count": 21,
   "metadata": {},
   "outputs": [
    {
     "data": {
      "text/plain": [
       "'\\nA higher number of reviews is not necessarily associated with a higher rating.\\n'"
      ]
     },
     "execution_count": 21,
     "metadata": {},
     "output_type": "execute_result"
    }
   ],
   "source": [
    "# Replace None with appropriate text\n",
    "\"\"\"\n",
    "A higher number of reviews is not necessarily associated with a higher rating.\n",
    "\"\"\""
   ]
  },
  {
   "cell_type": "markdown",
   "metadata": {},
   "source": [
    "## 4. Create a Folium Map\n",
    "\n",
    "Make a map using Folium of the businesses you retrieved. Be sure to also add popups to the markers giving some basic information such as name, rating and price.\n",
    "\n",
    "You can center the map around the latitude and longitude of the first item in `full_dataset`."
   ]
  },
  {
   "cell_type": "code",
   "execution_count": 22,
   "metadata": {},
   "outputs": [
    {
     "data": {
      "text/plain": [
       "{'name': \"Juliana's\",\n",
       " 'review_count': 2602,\n",
       " 'rating': 4.5,\n",
       " 'price': '$$',\n",
       " 'latitude': 40.70274718768062,\n",
       " 'longitude': -73.99343490196397}"
      ]
     },
     "execution_count": 22,
     "metadata": {},
     "output_type": "execute_result"
    }
   ],
   "source": [
    "full_dataset[0]"
   ]
  },
  {
   "cell_type": "code",
   "execution_count": 23,
   "metadata": {},
   "outputs": [
    {
     "data": {
      "text/html": [
       "<div style=\"width:100%;\"><div style=\"position:relative;width:100%;height:0;padding-bottom:60%;\"><span style=\"color:#565656\">Make this Notebook Trusted to load map: File -> Trust Notebook</span><iframe src=\"about:blank\" style=\"position:absolute;width:100%;height:100%;left:0;top:0;border:none !important;\" data-html=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 onload=\"this.contentDocument.open();this.contentDocument.write(atob(this.getAttribute('data-html')));this.contentDocument.close();\" allowfullscreen webkitallowfullscreen mozallowfullscreen></iframe></div></div>"
      ],
      "text/plain": [
       "<folium.folium.Map at 0x7fa7601eec70>"
      ]
     },
     "execution_count": 23,
     "metadata": {},
     "output_type": "execute_result"
    }
   ],
   "source": [
    "# Replace None with appropriate code\n",
    "\n",
    "# Import the library\n",
    "import folium\n",
    "\n",
    "# Set up center latitude and longitude\n",
    "center_lat = full_dataset[0]['latitude']\n",
    "center_long = full_dataset[0]['longitude']\n",
    "\n",
    "# Initialize map with center lat and long\n",
    "yelp_map = folium.Map([center_lat, center_long], zoom_start = 13)\n",
    "\n",
    "# Adjust this limit to see more or fewer businesses\n",
    "limit=100\n",
    "\n",
    "for business in full_dataset[:limit]:\n",
    "    # Extract information about business\n",
    "    lat = business['latitude']\n",
    "    long = business['longitude']\n",
    "    name = business['name']\n",
    "    rating = business['rating']\n",
    "    price = business['price']\n",
    "    details = \"{}\\nPrice: {} Rating:{}\".format(name,price,rating)\n",
    "    \n",
    "    # Create popup with relevant details\n",
    "    popup = folium.Popup(popup_text = details, parse_html = True)\n",
    "    \n",
    "    # Create marker with relevant lat/long and popup\n",
    "    marker = folium.Marker(location = [lat, long], popup = popup)\n",
    "    \n",
    "    marker.add_to(yelp_map)\n",
    "    \n",
    "yelp_map"
   ]
  },
  {
   "cell_type": "markdown",
   "metadata": {},
   "source": [
    "## Summary\n",
    "\n",
    "Nice work! In this lab, you've made multiple API calls to Yelp in order to paginate through a results set, performing some basic exploratory analysis and then creating a nice interactive map to display the results using Folium! Well done!"
   ]
  }
 ],
 "metadata": {
  "kernelspec": {
   "display_name": "Python 3",
   "language": "python",
   "name": "python3"
  },
  "language_info": {
   "codemirror_mode": {
    "name": "ipython",
    "version": 3
   },
   "file_extension": ".py",
   "mimetype": "text/x-python",
   "name": "python",
   "nbconvert_exporter": "python",
   "pygments_lexer": "ipython3",
   "version": "3.8.5"
  },
  "toc": {
   "base_numbering": 1,
   "nav_menu": {},
   "number_sections": true,
   "sideBar": true,
   "skip_h1_title": false,
   "title_cell": "Table of Contents",
   "title_sidebar": "Contents",
   "toc_cell": false,
   "toc_position": {},
   "toc_section_display": true,
   "toc_window_display": false
  }
 },
 "nbformat": 4,
 "nbformat_minor": 2
}
